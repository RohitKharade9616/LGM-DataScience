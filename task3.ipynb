{
  "nbformat": 4,
  "nbformat_minor": 0,
  "metadata": {
    "colab": {
      "name": "Untitled3.ipynb",
      "provenance": [],
      "collapsed_sections": []
    },
    "kernelspec": {
      "name": "python3",
      "display_name": "Python 3"
    },
    "language_info": {
      "name": "python"
    }
  },
  "cells": [
    {
      "cell_type": "code",
      "execution_count": 1,
      "metadata": {
        "id": "lWCS3pjgjaam"
      },
      "outputs": [],
      "source": [
        "# import required libraries\n",
        "import pandas as pd\n",
        "import numpy as np\n",
        "from matplotlib import pyplot as plt\n",
        "import seaborn as sns"
      ]
    },
    {
      "cell_type": "code",
      "source": [
        "# importing dataset\n",
        "url= 'https://raw.githubusercontent.com/mwitiderrick/stockprice/master/NSE-TATAGLOBAL.csv'\n",
        "df = pd.read_csv(url)   "
      ],
      "metadata": {
        "id": "VbiMZxCDjp0r"
      },
      "execution_count": 4,
      "outputs": []
    },
    {
      "cell_type": "code",
      "source": [
        "print(df.head())"
      ],
      "metadata": {
        "colab": {
          "base_uri": "https://localhost:8080/"
        },
        "id": "FQccso0VjxLh",
        "outputId": "318351a5-43dc-4f25-e94a-913ac3f4c95e"
      },
      "execution_count": 5,
      "outputs": [
        {
          "output_type": "stream",
          "name": "stdout",
          "text": [
            "         Date    Open    High     Low    Last   Close  Total Trade Quantity  \\\n",
            "0  2018-09-28  234.05  235.95  230.20  233.50  233.75               3069914   \n",
            "1  2018-09-27  234.55  236.80  231.10  233.80  233.25               5082859   \n",
            "2  2018-09-26  240.00  240.00  232.50  235.00  234.25               2240909   \n",
            "3  2018-09-25  233.30  236.75  232.00  236.25  236.10               2349368   \n",
            "4  2018-09-24  233.55  239.20  230.75  234.00  233.30               3423509   \n",
            "\n",
            "   Turnover (Lacs)  \n",
            "0          7162.35  \n",
            "1         11859.95  \n",
            "2          5248.60  \n",
            "3          5503.90  \n",
            "4          7999.55  \n"
          ]
        }
      ]
    },
    {
      "cell_type": "code",
      "source": [
        "# basic information about dataset\n",
        "print(df.shape)\n"
      ],
      "metadata": {
        "colab": {
          "base_uri": "https://localhost:8080/"
        },
        "id": "5v0N7WMTj7DU",
        "outputId": "94bc2ded-fbdb-4a66-8d3d-5b8097c096b5"
      },
      "execution_count": 6,
      "outputs": [
        {
          "output_type": "stream",
          "name": "stdout",
          "text": [
            "(2035, 8)\n"
          ]
        }
      ]
    },
    {
      "cell_type": "code",
      "source": [
        "print(df.dtypes)"
      ],
      "metadata": {
        "colab": {
          "base_uri": "https://localhost:8080/"
        },
        "id": "PjTLRlSCklrL",
        "outputId": "ea0ed2c3-cab5-4c0b-f516-662ef2fbe53a"
      },
      "execution_count": 7,
      "outputs": [
        {
          "output_type": "stream",
          "name": "stdout",
          "text": [
            "Date                     object\n",
            "Open                    float64\n",
            "High                    float64\n",
            "Low                     float64\n",
            "Last                    float64\n",
            "Close                   float64\n",
            "Total Trade Quantity      int64\n",
            "Turnover (Lacs)         float64\n",
            "dtype: object\n"
          ]
        }
      ]
    },
    {
      "cell_type": "code",
      "source": [
        "print(df.columns)"
      ],
      "metadata": {
        "colab": {
          "base_uri": "https://localhost:8080/"
        },
        "id": "eNx_voqaktOQ",
        "outputId": "c1f0229a-b282-4df0-ddd6-6b032b44d8e2"
      },
      "execution_count": 8,
      "outputs": [
        {
          "output_type": "stream",
          "name": "stdout",
          "text": [
            "Index(['Date', 'Open', 'High', 'Low', 'Last', 'Close', 'Total Trade Quantity',\n",
            "       'Turnover (Lacs)'],\n",
            "      dtype='object')\n"
          ]
        }
      ]
    },
    {
      "cell_type": "code",
      "source": [
        "# descriptive statistics\n",
        "print(df.describe())"
      ],
      "metadata": {
        "colab": {
          "base_uri": "https://localhost:8080/"
        },
        "id": "4r6VaM_skzhL",
        "outputId": "37fa0154-baa2-4075-c7d7-290ea7d51663"
      },
      "execution_count": 9,
      "outputs": [
        {
          "output_type": "stream",
          "name": "stdout",
          "text": [
            "              Open         High          Low         Last       Close  \\\n",
            "count  2035.000000  2035.000000  2035.000000  2035.000000  2035.00000   \n",
            "mean    149.713735   151.992826   147.293931   149.474251   149.45027   \n",
            "std      48.664509    49.413109    47.931958    48.732570    48.71204   \n",
            "min      81.100000    82.800000    80.000000    81.000000    80.95000   \n",
            "25%     120.025000   122.100000   118.300000   120.075000   120.05000   \n",
            "50%     141.500000   143.400000   139.600000   141.100000   141.25000   \n",
            "75%     157.175000   159.400000   155.150000   156.925000   156.90000   \n",
            "max     327.700000   328.750000   321.650000   325.950000   325.75000   \n",
            "\n",
            "       Total Trade Quantity  Turnover (Lacs)  \n",
            "count          2.035000e+03      2035.000000  \n",
            "mean           2.335681e+06      3899.980565  \n",
            "std            2.091778e+06      4570.767877  \n",
            "min            3.961000e+04        37.040000  \n",
            "25%            1.146444e+06      1427.460000  \n",
            "50%            1.783456e+06      2512.030000  \n",
            "75%            2.813594e+06      4539.015000  \n",
            "max            2.919102e+07     55755.080000  \n"
          ]
        }
      ]
    },
    {
      "cell_type": "code",
      "source": [
        "print(df.info())"
      ],
      "metadata": {
        "colab": {
          "base_uri": "https://localhost:8080/"
        },
        "id": "m2nYgQg7lA1-",
        "outputId": "c16a6fad-81c5-444f-df3b-52f2a7688432"
      },
      "execution_count": 10,
      "outputs": [
        {
          "output_type": "stream",
          "name": "stdout",
          "text": [
            "<class 'pandas.core.frame.DataFrame'>\n",
            "RangeIndex: 2035 entries, 0 to 2034\n",
            "Data columns (total 8 columns):\n",
            " #   Column                Non-Null Count  Dtype  \n",
            "---  ------                --------------  -----  \n",
            " 0   Date                  2035 non-null   object \n",
            " 1   Open                  2035 non-null   float64\n",
            " 2   High                  2035 non-null   float64\n",
            " 3   Low                   2035 non-null   float64\n",
            " 4   Last                  2035 non-null   float64\n",
            " 5   Close                 2035 non-null   float64\n",
            " 6   Total Trade Quantity  2035 non-null   int64  \n",
            " 7   Turnover (Lacs)       2035 non-null   float64\n",
            "dtypes: float64(6), int64(1), object(1)\n",
            "memory usage: 127.3+ KB\n",
            "None\n"
          ]
        }
      ]
    },
    {
      "cell_type": "code",
      "source": [
        "# detecting null values\n",
        "print(df.isnull().sum())"
      ],
      "metadata": {
        "colab": {
          "base_uri": "https://localhost:8080/"
        },
        "id": "9TUs3WQTlT9x",
        "outputId": "c47ecc92-cb1d-4ed0-dee4-d64792cc976b"
      },
      "execution_count": 11,
      "outputs": [
        {
          "output_type": "stream",
          "name": "stdout",
          "text": [
            "Date                    0\n",
            "Open                    0\n",
            "High                    0\n",
            "Low                     0\n",
            "Last                    0\n",
            "Close                   0\n",
            "Total Trade Quantity    0\n",
            "Turnover (Lacs)         0\n",
            "dtype: int64\n"
          ]
        }
      ]
    },
    {
      "cell_type": "code",
      "source": [
        "df = df.reset_index()['Close']\n"
      ],
      "metadata": {
        "id": "iaN5PEbklm4J"
      },
      "execution_count": 12,
      "outputs": []
    },
    {
      "cell_type": "code",
      "source": [
        "# visualization of dataset\n",
        "plt.plot(df, color = 'magenta')\n",
        "plt.title(\"Stacked Index View\")\n",
        "plt.xlabel(\"X-axis\")\n",
        "plt.ylabel(\"Y-axis\")\n",
        "plt.show()"
      ],
      "metadata": {
        "colab": {
          "base_uri": "https://localhost:8080/",
          "height": 295
        },
        "id": "Djd1ylzVlycv",
        "outputId": "7387481d-0ae4-495e-e067-95f2eaaaefae"
      },
      "execution_count": 14,
      "outputs": [
        {
          "output_type": "display_data",
          "data": {
            "text/plain": [
              "<Figure size 432x288 with 1 Axes>"
            ],
            "image/png": "[encoded data removed]"
          },
          "metadata": {
            "needs_background": "light"
          }
        }
      ]
    },
    {
      "cell_type": "code",
      "source": [
        "from sklearn.preprocessing import MinMaxScaler\n",
        "scaler = MinMaxScaler(feature_range = (0,1))\n",
        "df1 = scaler.fit_transform(np.array(df).reshape(-1,1))"
      ],
      "metadata": {
        "id": "RBgkTW0ZmJ3n"
      },
      "execution_count": 17,
      "outputs": []
    },
    {
      "cell_type": "code",
      "source": [
        "# splitting a dataset\n",
        "train_size = int(len(df1)*0.65)\n",
        "test_size = len(df1) - train_size\n",
        "train_data, test_data = df1[0:train_size,:],df1[train_size:len(df1),:1]\n"
      ],
      "metadata": {
        "id": "kibDVydAnL1Y"
      },
      "execution_count": 19,
      "outputs": []
    },
    {
      "cell_type": "code",
      "source": [
        "# data preprocessing\n",
        "def create_data(dataset,time_step = 1):\n",
        "    dataX, dataY = [],[]\n",
        "    for i in range(len(dataset) - time_step - 1):\n",
        "        a = dataset[i:(i + time_step), 0]\n",
        "        dataX.append(a)\n",
        "        dataY.append(dataset[i + time_step, 0])\n",
        "    return np.array(dataX), np.array(dataY)\n",
        "time_step = 100\n",
        "x_train, y_train = create_data(train_data,time_step)\n",
        "x_test,y_test = create_data(test_data,time_step)"
      ],
      "metadata": {
        "id": "u4aCTeT_oLrw"
      },
      "execution_count": 20,
      "outputs": []
    },
    {
      "cell_type": "code",
      "source": [
        "x_train\n"
      ],
      "metadata": {
        "colab": {
          "base_uri": "https://localhost:8080/"
        },
        "id": "hdVB8ZJ9o1Mp",
        "outputId": "4a8c4656-9531-4927-dbe8-4e685bc9aee6"
      },
      "execution_count": 21,
      "outputs": [
        {
          "output_type": "execute_result",
          "data": {
            "text/plain": [
              "array([[0.62418301, 0.62214052, 0.62622549, ..., 0.83455882, 0.86213235,\n",
              "        0.85273693],\n",
              "       [0.62214052, 0.62622549, 0.63378268, ..., 0.86213235, 0.85273693,\n",
              "        0.87111928],\n",
              "       [0.62622549, 0.63378268, 0.62234477, ..., 0.85273693, 0.87111928,\n",
              "        0.84497549],\n",
              "       ...,\n",
              "       [0.34517974, 0.31781046, 0.33047386, ..., 0.2816585 , 0.27001634,\n",
              "        0.26531863],\n",
              "       [0.31781046, 0.33047386, 0.32128268, ..., 0.27001634, 0.26531863,\n",
              "        0.27389706],\n",
              "       [0.33047386, 0.32128268, 0.34007353, ..., 0.26531863, 0.27389706,\n",
              "        0.25347222]])"
            ]
          },
          "metadata": {},
          "execution_count": 21
        }
      ]
    },
    {
      "cell_type": "code",
      "source": [
        "x_train.shape,y_train.shape"
      ],
      "metadata": {
        "colab": {
          "base_uri": "https://localhost:8080/"
        },
        "id": "0VuTWcweo5_H",
        "outputId": "c0accf48-ce79-4bc4-f333-b9ad9713b337"
      },
      "execution_count": 24,
      "outputs": [
        {
          "output_type": "execute_result",
          "data": {
            "text/plain": [
              "((1221, 100), (1221,))"
            ]
          },
          "metadata": {},
          "execution_count": 24
        }
      ]
    },
    {
      "cell_type": "code",
      "source": [
        "x_test.shape,y_test.shape"
      ],
      "metadata": {
        "colab": {
          "base_uri": "https://localhost:8080/"
        },
        "id": "hI0fMnKso-pP",
        "outputId": "0ea23670-1155-41a3-c1c9-a7762e12f311"
      },
      "execution_count": 25,
      "outputs": [
        {
          "output_type": "execute_result",
          "data": {
            "text/plain": [
              "((612, 100), (612,))"
            ]
          },
          "metadata": {},
          "execution_count": 25
        }
      ]
    },
    {
      "cell_type": "code",
      "source": [
        "# reshaping the dataset\n",
        "x_train = x_train.reshape(x_train.shape[0],x_train.shape[1],1)\n",
        "x_test = x_test.reshape(x_test.shape[0],x_test.shape[1],1)"
      ],
      "metadata": {
        "id": "8Dk0ndX1pBu2"
      },
      "execution_count": 26,
      "outputs": []
    },
    {
      "cell_type": "code",
      "source": [
        "import tensorflow"
      ],
      "metadata": {
        "id": "zUminWVZpW86"
      },
      "execution_count": 27,
      "outputs": []
    },
    {
      "cell_type": "code",
      "source": [
        "from tensorflow.keras.models import Sequential\n",
        "from tensorflow.keras.layers import Dense\n",
        "from tensorflow.keras.layers import LSTM"
      ],
      "metadata": {
        "id": "Om7sYzCvpfxz"
      },
      "execution_count": 28,
      "outputs": []
    },
    {
      "cell_type": "code",
      "source": [
        "model = Sequential()\n",
        "model.add(LSTM(50, return_sequences = True, input_shape = (100,1)))\n",
        "model.add(LSTM(50, return_sequences = True))\n",
        "model.add(LSTM(50))\n",
        "model.add(Dense(1))\n",
        "model.compile(loss = 'mean_squared_error', optimizer = 'adam')"
      ],
      "metadata": {
        "id": "LjuS3zMPpngj"
      },
      "execution_count": 29,
      "outputs": []
    },
    {
      "cell_type": "code",
      "source": [
        "model.summary()\n"
      ],
      "metadata": {
        "colab": {
          "base_uri": "https://localhost:8080/"
        },
        "id": "q3DqRL_Opwvc",
        "outputId": "ebb551cf-dc90-4085-9945-5a2c6770a54d"
      },
      "execution_count": 30,
      "outputs": [
        {
          "output_type": "stream",
          "name": "stdout",
          "text": [
            "Model: \"sequential\"\n",
            "_________________________________________________________________\n",
            " Layer (type)                Output Shape              Param #   \n",
            "=================================================================\n",
            " lstm (LSTM)                 (None, 100, 50)           10400     \n",
            "                                                                 \n",
            " lstm_1 (LSTM)               (None, 100, 50)           20200     \n",
            "                                                                 \n",
            " lstm_2 (LSTM)               (None, 50)                20200     \n",
            "                                                                 \n",
            " dense (Dense)               (None, 1)                 51        \n",
            "                                                                 \n",
            "=================================================================\n",
            "Total params: 50,851\n",
            "Trainable params: 50,851\n",
            "Non-trainable params: 0\n",
            "_________________________________________________________________\n"
          ]
        }
      ]
    },
    {
      "cell_type": "code",
      "source": [
        "# model trainning\n",
        "model.fit(x_train,y_train,validation_data = (x_test,y_test),epochs = 100, batch_size = 64, verbose = 1)\n"
      ],
      "metadata": {
        "colab": {
          "base_uri": "https://localhost:8080/"
        },
        "id": "1LZ5AjQVp0o-",
        "outputId": "4d798f27-3b1c-4297-8ea1-1e3a3e5b9de4"
      },
      "execution_count": 31,
      "outputs": [
        {
          "output_type": "stream",
          "name": "stdout",
          "text": [
            "20/20 [==============================] - 4s 206ms/step - loss: 8.1503e-04 - val_loss: 8.8230e-04\n",
            "Epoch 21/100\n",
            "20/20 [==============================] - 4s 208ms/step - loss: 0.0010 - val_loss: 0.0012\n",
            "Epoch 22/100\n",
            "20/20 [==============================] - 6s 313ms/step - loss: 8.0081e-04 - val_loss: 6.7936e-04\n",
            "Epoch 23/100\n",
            "20/20 [==============================] - 4s 206ms/step - loss: 7.7799e-04 - val_loss: 9.4624e-04\n",
            "Epoch 24/100\n",
            "20/20 [==============================] - 4s 206ms/step - loss: 8.6274e-04 - val_loss: 6.6289e-04\n",
            "Epoch 25/100\n",
            "20/20 [==============================] - 4s 207ms/step - loss: 7.0966e-04 - val_loss: 7.3465e-04\n",
            "Epoch 26/100\n",
            "20/20 [==============================] - 4s 207ms/step - loss: 7.1461e-04 - val_loss: 9.2284e-04\n",
            "Epoch 27/100\n",
            "20/20 [==============================] - 4s 209ms/step - loss: 6.5895e-04 - val_loss: 7.9224e-04\n",
            "Epoch 28/100\n",
            "20/20 [==============================] - 4s 209ms/step - loss: 6.5880e-04 - val_loss: 7.2041e-04\n",
            "Epoch 29/100\n",
            "20/20 [==============================] - 4s 211ms/step - loss: 6.1661e-04 - val_loss: 9.3731e-04\n",
            "Epoch 30/100\n",
            "20/20 [==============================] - 4s 210ms/step - loss: 8.5593e-04 - val_loss: 8.2714e-04\n",
            "Epoch 31/100\n",
            "20/20 [==============================] - 4s 208ms/step - loss: 6.7988e-04 - val_loss: 5.7626e-04\n",
            "Epoch 32/100\n",
            "20/20 [==============================] - 4s 206ms/step - loss: 6.3507e-04 - val_loss: 6.2938e-04\n",
            "Epoch 33/100\n",
            "20/20 [==============================] - 4s 209ms/step - loss: 5.9531e-04 - val_loss: 6.4104e-04\n",
            "Epoch 34/100\n",
            "20/20 [==============================] - 9s 428ms/step - loss: 5.6576e-04 - val_loss: 8.5659e-04\n",
            "Epoch 35/100\n",
            "20/20 [==============================] - 7s 342ms/step - loss: 6.6055e-04 - val_loss: 5.7409e-04\n",
            "Epoch 36/100\n",
            "20/20 [==============================] - 4s 208ms/step - loss: 5.6024e-04 - val_loss: 5.2860e-04\n",
            "Epoch 37/100\n",
            "20/20 [==============================] - 4s 210ms/step - loss: 5.3602e-04 - val_loss: 6.0213e-04\n",
            "Epoch 38/100\n",
            "20/20 [==============================] - 5s 278ms/step - loss: 5.7818e-04 - val_loss: 7.3530e-04\n",
            "Epoch 39/100\n",
            "20/20 [==============================] - 6s 324ms/step - loss: 5.7801e-04 - val_loss: 6.0124e-04\n",
            "Epoch 40/100\n",
            "20/20 [==============================] - 4s 213ms/step - loss: 5.1373e-04 - val_loss: 6.8471e-04\n",
            "Epoch 41/100\n",
            "20/20 [==============================] - 4s 207ms/step - loss: 5.2396e-04 - val_loss: 5.2164e-04\n",
            "Epoch 42/100\n",
            "20/20 [==============================] - 4s 215ms/step - loss: 5.0974e-04 - val_loss: 6.7177e-04\n",
            "Epoch 43/100\n",
            "20/20 [==============================] - 6s 298ms/step - loss: 6.2116e-04 - val_loss: 4.3529e-04\n",
            "Epoch 44/100\n",
            "20/20 [==============================] - 4s 207ms/step - loss: 5.3661e-04 - val_loss: 9.3568e-04\n",
            "Epoch 45/100\n",
            "20/20 [==============================] - 4s 207ms/step - loss: 6.6188e-04 - val_loss: 4.9766e-04\n",
            "Epoch 46/100\n",
            "20/20 [==============================] - 4s 208ms/step - loss: 9.0407e-04 - val_loss: 3.9287e-04\n",
            "Epoch 47/100\n",
            "20/20 [==============================] - 4s 209ms/step - loss: 5.1242e-04 - val_loss: 5.6538e-04\n",
            "Epoch 48/100\n",
            "20/20 [==============================] - 5s 278ms/step - loss: 4.8681e-04 - val_loss: 4.7658e-04\n",
            "Epoch 49/100\n",
            "20/20 [==============================] - 5s 248ms/step - loss: 5.1486e-04 - val_loss: 5.0735e-04\n",
            "Epoch 50/100\n",
            "20/20 [==============================] - 4s 207ms/step - loss: 4.8223e-04 - val_loss: 5.2464e-04\n",
            "Epoch 51/100\n",
            "20/20 [==============================] - 4s 206ms/step - loss: 4.5884e-04 - val_loss: 4.0618e-04\n",
            "Epoch 52/100\n",
            "20/20 [==============================] - 4s 208ms/step - loss: 4.1018e-04 - val_loss: 4.2064e-04\n",
            "Epoch 53/100\n",
            "20/20 [==============================] - 4s 214ms/step - loss: 4.0687e-04 - val_loss: 3.7132e-04\n",
            "Epoch 54/100\n",
            "20/20 [==============================] - 4s 215ms/step - loss: 4.6635e-04 - val_loss: 4.4454e-04\n",
            "Epoch 55/100\n",
            "20/20 [==============================] - 4s 213ms/step - loss: 4.4813e-04 - val_loss: 4.4520e-04\n",
            "Epoch 56/100\n",
            "20/20 [==============================] - 4s 212ms/step - loss: 3.7865e-04 - val_loss: 3.8024e-04\n",
            "Epoch 57/100\n",
            "20/20 [==============================] - 4s 212ms/step - loss: 3.8638e-04 - val_loss: 4.9608e-04\n",
            "Epoch 58/100\n",
            "20/20 [==============================] - 4s 208ms/step - loss: 4.3097e-04 - val_loss: 5.1750e-04\n",
            "Epoch 59/100\n",
            "20/20 [==============================] - 4s 206ms/step - loss: 4.7352e-04 - val_loss: 4.5228e-04\n",
            "Epoch 60/100\n",
            "20/20 [==============================] - 4s 208ms/step - loss: 3.8741e-04 - val_loss: 4.9264e-04\n",
            "Epoch 61/100\n",
            "20/20 [==============================] - 4s 207ms/step - loss: 4.7286e-04 - val_loss: 3.2235e-04\n",
            "Epoch 62/100\n",
            "20/20 [==============================] - 4s 209ms/step - loss: 4.6075e-04 - val_loss: 3.7697e-04\n",
            "Epoch 63/100\n",
            "20/20 [==============================] - 4s 209ms/step - loss: 3.6428e-04 - val_loss: 3.2072e-04\n",
            "Epoch 64/100\n",
            "20/20 [==============================] - 4s 206ms/step - loss: 4.7737e-04 - val_loss: 4.4657e-04\n",
            "Epoch 65/100\n",
            "20/20 [==============================] - 4s 211ms/step - loss: 3.5943e-04 - val_loss: 5.3743e-04\n",
            "Epoch 66/100\n",
            "20/20 [==============================] - 4s 208ms/step - loss: 4.5710e-04 - val_loss: 3.2311e-04\n",
            "Epoch 67/100\n",
            "20/20 [==============================] - 4s 210ms/step - loss: 3.6774e-04 - val_loss: 4.6578e-04\n",
            "Epoch 68/100\n",
            "20/20 [==============================] - 4s 208ms/step - loss: 3.4849e-04 - val_loss: 3.7412e-04\n",
            "Epoch 69/100\n",
            "20/20 [==============================] - 4s 209ms/step - loss: 3.6350e-04 - val_loss: 3.3825e-04\n",
            "Epoch 70/100\n",
            "20/20 [==============================] - 4s 208ms/step - loss: 7.4797e-04 - val_loss: 4.2746e-04\n",
            "Epoch 71/100\n",
            "20/20 [==============================] - 4s 208ms/step - loss: 3.7801e-04 - val_loss: 3.7051e-04\n",
            "Epoch 72/100\n",
            "20/20 [==============================] - 4s 206ms/step - loss: 3.4495e-04 - val_loss: 3.0898e-04\n",
            "Epoch 73/100\n",
            "20/20 [==============================] - 4s 209ms/step - loss: 3.1133e-04 - val_loss: 3.0957e-04\n",
            "Epoch 74/100\n",
            "20/20 [==============================] - 4s 206ms/step - loss: 3.5979e-04 - val_loss: 3.6290e-04\n",
            "Epoch 75/100\n",
            "20/20 [==============================] - 4s 211ms/step - loss: 3.9514e-04 - val_loss: 3.1241e-04\n",
            "Epoch 76/100\n",
            "20/20 [==============================] - 4s 212ms/step - loss: 3.0596e-04 - val_loss: 2.9881e-04\n",
            "Epoch 77/100\n",
            "20/20 [==============================] - 4s 211ms/step - loss: 2.8738e-04 - val_loss: 3.3176e-04\n",
            "Epoch 78/100\n",
            "20/20 [==============================] - 4s 216ms/step - loss: 3.0225e-04 - val_loss: 2.4963e-04\n",
            "Epoch 79/100\n",
            "20/20 [==============================] - 4s 212ms/step - loss: 3.0276e-04 - val_loss: 2.6052e-04\n",
            "Epoch 80/100\n",
            "20/20 [==============================] - 4s 210ms/step - loss: 3.1135e-04 - val_loss: 4.1410e-04\n",
            "Epoch 81/100\n",
            "20/20 [==============================] - 4s 212ms/step - loss: 3.1176e-04 - val_loss: 2.7519e-04\n",
            "Epoch 82/100\n",
            "20/20 [==============================] - 4s 211ms/step - loss: 2.9355e-04 - val_loss: 3.0175e-04\n",
            "Epoch 83/100\n",
            "20/20 [==============================] - 4s 213ms/step - loss: 2.7718e-04 - val_loss: 2.9890e-04\n",
            "Epoch 84/100\n",
            "20/20 [==============================] - 4s 209ms/step - loss: 2.5415e-04 - val_loss: 4.6127e-04\n",
            "Epoch 85/100\n",
            "20/20 [==============================] - 4s 210ms/step - loss: 3.5474e-04 - val_loss: 2.5302e-04\n",
            "Epoch 86/100\n",
            "20/20 [==============================] - 4s 210ms/step - loss: 2.8505e-04 - val_loss: 2.7720e-04\n",
            "Epoch 87/100\n",
            "20/20 [==============================] - 4s 209ms/step - loss: 2.5060e-04 - val_loss: 2.7200e-04\n",
            "Epoch 88/100\n",
            "20/20 [==============================] - 4s 213ms/step - loss: 2.5215e-04 - val_loss: 3.1744e-04\n",
            "Epoch 89/100\n",
            "20/20 [==============================] - 4s 210ms/step - loss: 2.5771e-04 - val_loss: 2.2307e-04\n",
            "Epoch 90/100\n",
            "20/20 [==============================] - 4s 212ms/step - loss: 3.4074e-04 - val_loss: 2.4008e-04\n",
            "Epoch 91/100\n",
            "20/20 [==============================] - 4s 212ms/step - loss: 2.7688e-04 - val_loss: 3.4320e-04\n",
            "Epoch 92/100\n",
            "20/20 [==============================] - 4s 209ms/step - loss: 2.7263e-04 - val_loss: 2.7099e-04\n",
            "Epoch 93/100\n",
            "20/20 [==============================] - 4s 210ms/step - loss: 2.4270e-04 - val_loss: 2.0737e-04\n",
            "Epoch 94/100\n",
            "20/20 [==============================] - 4s 210ms/step - loss: 2.8412e-04 - val_loss: 2.1451e-04\n",
            "Epoch 95/100\n",
            "20/20 [==============================] - 4s 213ms/step - loss: 2.8230e-04 - val_loss: 2.9986e-04\n",
            "Epoch 96/100\n",
            "20/20 [==============================] - 4s 215ms/step - loss: 2.3702e-04 - val_loss: 2.3120e-04\n",
            "Epoch 97/100\n",
            "20/20 [==============================] - 4s 212ms/step - loss: 2.7631e-04 - val_loss: 2.3221e-04\n",
            "Epoch 98/100\n",
            "20/20 [==============================] - 4s 213ms/step - loss: 2.4831e-04 - val_loss: 2.2211e-04\n",
            "Epoch 99/100\n",
            "20/20 [==============================] - 4s 210ms/step - loss: 2.5314e-04 - val_loss: 2.3028e-04\n",
            "Epoch 100/100\n",
            "20/20 [==============================] - 4s 211ms/step - loss: 2.4309e-04 - val_loss: 2.3018e-04\n"
          ]
        },
        {
          "output_type": "execute_result",
          "data": {
            "text/plain": [
              "<keras.callbacks.History at 0x7f16e97f23d0>"
            ]
          },
          "metadata": {},
          "execution_count": 31
        }
      ]
    },
    {
      "cell_type": "code",
      "source": [
        "# model testing\n",
        "train_predict = model.predict(x_train)\n",
        "test_predict = model.predict(x_test)\n",
        "train_predict = scaler.inverse_transform(train_predict)\n",
        "test_predict = scaler.inverse_transform(test_predict)"
      ],
      "metadata": {
        "id": "pthGZ0jap9N0"
      },
      "execution_count": 32,
      "outputs": []
    },
    {
      "cell_type": "code",
      "source": [
        "# model evaluation\n",
        "import math\n",
        "from sklearn.metrics import mean_squared_error\n",
        "math.sqrt(mean_squared_error(y_train,train_predict))\n",
        "\n"
      ],
      "metadata": {
        "colab": {
          "base_uri": "https://localhost:8080/"
        },
        "id": "LnPDnEwPqXOC",
        "outputId": "c61db19b-e4a8-455e-d523-94414b156740"
      },
      "execution_count": 34,
      "outputs": [
        {
          "output_type": "execute_result",
          "data": {
            "text/plain": [
              "166.38481369385372"
            ]
          },
          "metadata": {},
          "execution_count": 34
        }
      ]
    },
    {
      "cell_type": "code",
      "source": [
        "math.sqrt(mean_squared_error(y_test,test_predict))\n"
      ],
      "metadata": {
        "colab": {
          "base_uri": "https://localhost:8080/"
        },
        "id": "_lXzItRhr8XA",
        "outputId": "399ce0af-fbcf-4179-e68f-118da538699d"
      },
      "execution_count": 35,
      "outputs": [
        {
          "output_type": "execute_result",
          "data": {
            "text/plain": [
              "116.22279089477853"
            ]
          },
          "metadata": {},
          "execution_count": 35
        }
      ]
    },
    {
      "cell_type": "code",
      "source": [
        "look_back = 100\n",
        "\n",
        "# shift train prediction\n",
        "trainPredict = np.empty_like(data1)\n",
        "trainPredict[:,:] = np.nan\n",
        "trainPredict[look_back:len(train_predict)+look_back, :] = train_predict\n",
        "\n",
        "# shift test prediction\n",
        "testPredict = np.empty_like(data1)\n",
        "testPredict[:,:] = np.nan\n",
        "testPredict[len(train_predict) + (look_back * 2)+1:len(data1)-1, :] = test_predict\n",
        "\n",
        "# plot baseline and predictions\n",
        "plt.plot(scaler.inverse_transform(data1))\n",
        "plt.plot(trainPredict)\n",
        "plt.plot(testPredict)\n",
        "plt.show()\n"
      ],
      "metadata": {
        "colab": {
          "base_uri": "https://localhost:8080/",
          "height": 265
        },
        "id": "yg1fhv1fsCDY",
        "outputId": "ad823298-bac9-4a75-c64d-2a0f1946e5cf"
      },
      "execution_count": 36,
      "outputs": [
        {
          "output_type": "display_data",
          "data": {
            "text/plain": [
              "<Figure size 432x288 with 1 Axes>"
            ],
            "image/png": "[encoded data removed]"
          },
          "metadata": {
            "needs_background": "light"
          }
        }
      ]
    },
    {
      "cell_type": "code",
      "source": [
        ""
      ],
      "metadata": {
        "id": "DdFLrUAssEp8"
      },
      "execution_count": null,
      "outputs": []
    }
  ]
}